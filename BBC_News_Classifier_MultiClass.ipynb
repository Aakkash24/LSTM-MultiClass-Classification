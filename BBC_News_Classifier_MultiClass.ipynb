{
  "nbformat": 4,
  "nbformat_minor": 0,
  "metadata": {
    "colab": {
      "provenance": [],
      "gpuType": "T4"
    },
    "kernelspec": {
      "name": "python3",
      "display_name": "Python 3"
    },
    "language_info": {
      "name": "python"
    },
    "accelerator": "GPU"
  },
  "cells": [
    {
      "cell_type": "markdown",
      "source": [
        "#1. Data Preparation"
      ],
      "metadata": {
        "id": "hfIFWqquTZqd"
      }
    },
    {
      "cell_type": "code",
      "execution_count": 1,
      "metadata": {
        "colab": {
          "base_uri": "https://localhost:8080/"
        },
        "id": "QqfPJQWxTBbh",
        "outputId": "762960be-efa5-4bbe-b840-39c1a7875b36"
      },
      "outputs": [
        {
          "output_type": "stream",
          "name": "stdout",
          "text": [
            "Looking in indexes: https://pypi.org/simple, https://us-python.pkg.dev/colab-wheels/public/simple/\n",
            "Collecting opendatasets\n",
            "  Downloading opendatasets-0.1.22-py3-none-any.whl (15 kB)\n",
            "Requirement already satisfied: tqdm in /usr/local/lib/python3.10/dist-packages (from opendatasets) (4.65.0)\n",
            "Requirement already satisfied: kaggle in /usr/local/lib/python3.10/dist-packages (from opendatasets) (1.5.13)\n",
            "Requirement already satisfied: click in /usr/local/lib/python3.10/dist-packages (from opendatasets) (8.1.3)\n",
            "Requirement already satisfied: six>=1.10 in /usr/local/lib/python3.10/dist-packages (from kaggle->opendatasets) (1.16.0)\n",
            "Requirement already satisfied: certifi in /usr/local/lib/python3.10/dist-packages (from kaggle->opendatasets) (2023.5.7)\n",
            "Requirement already satisfied: python-dateutil in /usr/local/lib/python3.10/dist-packages (from kaggle->opendatasets) (2.8.2)\n",
            "Requirement already satisfied: requests in /usr/local/lib/python3.10/dist-packages (from kaggle->opendatasets) (2.27.1)\n",
            "Requirement already satisfied: python-slugify in /usr/local/lib/python3.10/dist-packages (from kaggle->opendatasets) (8.0.1)\n",
            "Requirement already satisfied: urllib3 in /usr/local/lib/python3.10/dist-packages (from kaggle->opendatasets) (1.26.16)\n",
            "Requirement already satisfied: text-unidecode>=1.3 in /usr/local/lib/python3.10/dist-packages (from python-slugify->kaggle->opendatasets) (1.3)\n",
            "Requirement already satisfied: charset-normalizer~=2.0.0 in /usr/local/lib/python3.10/dist-packages (from requests->kaggle->opendatasets) (2.0.12)\n",
            "Requirement already satisfied: idna<4,>=2.5 in /usr/local/lib/python3.10/dist-packages (from requests->kaggle->opendatasets) (3.4)\n",
            "Installing collected packages: opendatasets\n",
            "Successfully installed opendatasets-0.1.22\n"
          ]
        }
      ],
      "source": [
        "!pip install opendatasets"
      ]
    },
    {
      "cell_type": "code",
      "source": [
        "import opendatasets as od"
      ],
      "metadata": {
        "id": "bCSxrxiuTIQN"
      },
      "execution_count": 2,
      "outputs": []
    },
    {
      "cell_type": "code",
      "source": [
        "od.download('https://www.kaggle.com/datasets/balatmak/newsgroup20bbcnews')"
      ],
      "metadata": {
        "colab": {
          "base_uri": "https://localhost:8080/"
        },
        "id": "xMtk-AniTJ8K",
        "outputId": "f5d51888-d162-4765-de99-6f134b3dad1e"
      },
      "execution_count": 3,
      "outputs": [
        {
          "output_type": "stream",
          "name": "stdout",
          "text": [
            "Please provide your Kaggle credentials to download this dataset. Learn more: http://bit.ly/kaggle-creds\n",
            "Your Kaggle username: aakkashsuresh\n",
            "Your Kaggle Key: ··········\n",
            "Downloading newsgroup20bbcnews.zip to ./newsgroup20bbcnews\n"
          ]
        },
        {
          "output_type": "stream",
          "name": "stderr",
          "text": [
            "100%|██████████| 15.1M/15.1M [00:01<00:00, 13.3MB/s]\n"
          ]
        },
        {
          "output_type": "stream",
          "name": "stdout",
          "text": [
            "\n"
          ]
        }
      ]
    },
    {
      "cell_type": "code",
      "source": [
        "import pandas as pd\n",
        "df = pd.read_csv('/content/newsgroup20bbcnews/bbc-text.csv')"
      ],
      "metadata": {
        "id": "AYUMWMo_TLJ3"
      },
      "execution_count": 4,
      "outputs": []
    },
    {
      "cell_type": "code",
      "source": [
        "df.head()"
      ],
      "metadata": {
        "colab": {
          "base_uri": "https://localhost:8080/",
          "height": 206
        },
        "id": "qEOhg15gTU7V",
        "outputId": "811f9e11-9d9d-41a5-a318-4e846841ba49"
      },
      "execution_count": 5,
      "outputs": [
        {
          "output_type": "execute_result",
          "data": {
            "text/plain": [
              "        category                                               text\n",
              "0           tech  tv future in the hands of viewers with home th...\n",
              "1       business  worldcom boss  left books alone  former worldc...\n",
              "2          sport  tigers wary of farrell  gamble  leicester say ...\n",
              "3          sport  yeading face newcastle in fa cup premiership s...\n",
              "4  entertainment  ocean s twelve raids box office ocean s twelve..."
            ],
            "text/html": [
              "\n",
              "  <div id=\"df-a27539fd-cd8a-454c-b9d1-65a894bd8d63\">\n",
              "    <div class=\"colab-df-container\">\n",
              "      <div>\n",
              "<style scoped>\n",
              "    .dataframe tbody tr th:only-of-type {\n",
              "        vertical-align: middle;\n",
              "    }\n",
              "\n",
              "    .dataframe tbody tr th {\n",
              "        vertical-align: top;\n",
              "    }\n",
              "\n",
              "    .dataframe thead th {\n",
              "        text-align: right;\n",
              "    }\n",
              "</style>\n",
              "<table border=\"1\" class=\"dataframe\">\n",
              "  <thead>\n",
              "    <tr style=\"text-align: right;\">\n",
              "      <th></th>\n",
              "      <th>category</th>\n",
              "      <th>text</th>\n",
              "    </tr>\n",
              "  </thead>\n",
              "  <tbody>\n",
              "    <tr>\n",
              "      <th>0</th>\n",
              "      <td>tech</td>\n",
              "      <td>tv future in the hands of viewers with home th...</td>\n",
              "    </tr>\n",
              "    <tr>\n",
              "      <th>1</th>\n",
              "      <td>business</td>\n",
              "      <td>worldcom boss  left books alone  former worldc...</td>\n",
              "    </tr>\n",
              "    <tr>\n",
              "      <th>2</th>\n",
              "      <td>sport</td>\n",
              "      <td>tigers wary of farrell  gamble  leicester say ...</td>\n",
              "    </tr>\n",
              "    <tr>\n",
              "      <th>3</th>\n",
              "      <td>sport</td>\n",
              "      <td>yeading face newcastle in fa cup premiership s...</td>\n",
              "    </tr>\n",
              "    <tr>\n",
              "      <th>4</th>\n",
              "      <td>entertainment</td>\n",
              "      <td>ocean s twelve raids box office ocean s twelve...</td>\n",
              "    </tr>\n",
              "  </tbody>\n",
              "</table>\n",
              "</div>\n",
              "      <button class=\"colab-df-convert\" onclick=\"convertToInteractive('df-a27539fd-cd8a-454c-b9d1-65a894bd8d63')\"\n",
              "              title=\"Convert this dataframe to an interactive table.\"\n",
              "              style=\"display:none;\">\n",
              "        \n",
              "  <svg xmlns=\"http://www.w3.org/2000/svg\" height=\"24px\"viewBox=\"0 0 24 24\"\n",
              "       width=\"24px\">\n",
              "    <path d=\"M0 0h24v24H0V0z\" fill=\"none\"/>\n",
              "    <path d=\"M18.56 5.44l.94 2.06.94-2.06 2.06-.94-2.06-.94-.94-2.06-.94 2.06-2.06.94zm-11 1L8.5 8.5l.94-2.06 2.06-.94-2.06-.94L8.5 2.5l-.94 2.06-2.06.94zm10 10l.94 2.06.94-2.06 2.06-.94-2.06-.94-.94-2.06-.94 2.06-2.06.94z\"/><path d=\"M17.41 7.96l-1.37-1.37c-.4-.4-.92-.59-1.43-.59-.52 0-1.04.2-1.43.59L10.3 9.45l-7.72 7.72c-.78.78-.78 2.05 0 2.83L4 21.41c.39.39.9.59 1.41.59.51 0 1.02-.2 1.41-.59l7.78-7.78 2.81-2.81c.8-.78.8-2.07 0-2.86zM5.41 20L4 18.59l7.72-7.72 1.47 1.35L5.41 20z\"/>\n",
              "  </svg>\n",
              "      </button>\n",
              "      \n",
              "  <style>\n",
              "    .colab-df-container {\n",
              "      display:flex;\n",
              "      flex-wrap:wrap;\n",
              "      gap: 12px;\n",
              "    }\n",
              "\n",
              "    .colab-df-convert {\n",
              "      background-color: #E8F0FE;\n",
              "      border: none;\n",
              "      border-radius: 50%;\n",
              "      cursor: pointer;\n",
              "      display: none;\n",
              "      fill: #1967D2;\n",
              "      height: 32px;\n",
              "      padding: 0 0 0 0;\n",
              "      width: 32px;\n",
              "    }\n",
              "\n",
              "    .colab-df-convert:hover {\n",
              "      background-color: #E2EBFA;\n",
              "      box-shadow: 0px 1px 2px rgba(60, 64, 67, 0.3), 0px 1px 3px 1px rgba(60, 64, 67, 0.15);\n",
              "      fill: #174EA6;\n",
              "    }\n",
              "\n",
              "    [theme=dark] .colab-df-convert {\n",
              "      background-color: #3B4455;\n",
              "      fill: #D2E3FC;\n",
              "    }\n",
              "\n",
              "    [theme=dark] .colab-df-convert:hover {\n",
              "      background-color: #434B5C;\n",
              "      box-shadow: 0px 1px 3px 1px rgba(0, 0, 0, 0.15);\n",
              "      filter: drop-shadow(0px 1px 2px rgba(0, 0, 0, 0.3));\n",
              "      fill: #FFFFFF;\n",
              "    }\n",
              "  </style>\n",
              "\n",
              "      <script>\n",
              "        const buttonEl =\n",
              "          document.querySelector('#df-a27539fd-cd8a-454c-b9d1-65a894bd8d63 button.colab-df-convert');\n",
              "        buttonEl.style.display =\n",
              "          google.colab.kernel.accessAllowed ? 'block' : 'none';\n",
              "\n",
              "        async function convertToInteractive(key) {\n",
              "          const element = document.querySelector('#df-a27539fd-cd8a-454c-b9d1-65a894bd8d63');\n",
              "          const dataTable =\n",
              "            await google.colab.kernel.invokeFunction('convertToInteractive',\n",
              "                                                     [key], {});\n",
              "          if (!dataTable) return;\n",
              "\n",
              "          const docLinkHtml = 'Like what you see? Visit the ' +\n",
              "            '<a target=\"_blank\" href=https://colab.research.google.com/notebooks/data_table.ipynb>data table notebook</a>'\n",
              "            + ' to learn more about interactive tables.';\n",
              "          element.innerHTML = '';\n",
              "          dataTable['output_type'] = 'display_data';\n",
              "          await google.colab.output.renderOutput(dataTable, element);\n",
              "          const docLink = document.createElement('div');\n",
              "          docLink.innerHTML = docLinkHtml;\n",
              "          element.appendChild(docLink);\n",
              "        }\n",
              "      </script>\n",
              "    </div>\n",
              "  </div>\n",
              "  "
            ]
          },
          "metadata": {},
          "execution_count": 5
        }
      ]
    },
    {
      "cell_type": "code",
      "source": [
        "df.describe()"
      ],
      "metadata": {
        "colab": {
          "base_uri": "https://localhost:8080/",
          "height": 175
        },
        "id": "oN9AsIrSTVi7",
        "outputId": "02fe621e-bf1c-4d3c-95e7-7bcd735a2744"
      },
      "execution_count": 6,
      "outputs": [
        {
          "output_type": "execute_result",
          "data": {
            "text/plain": [
              "       category                                               text\n",
              "count      2225                                               2225\n",
              "unique        5                                               2126\n",
              "top       sport  kennedy questions trust of blair lib dem leade...\n",
              "freq        511                                                  2"
            ],
            "text/html": [
              "\n",
              "  <div id=\"df-50ce1209-cb3e-49f1-806e-1df2a61e24f4\">\n",
              "    <div class=\"colab-df-container\">\n",
              "      <div>\n",
              "<style scoped>\n",
              "    .dataframe tbody tr th:only-of-type {\n",
              "        vertical-align: middle;\n",
              "    }\n",
              "\n",
              "    .dataframe tbody tr th {\n",
              "        vertical-align: top;\n",
              "    }\n",
              "\n",
              "    .dataframe thead th {\n",
              "        text-align: right;\n",
              "    }\n",
              "</style>\n",
              "<table border=\"1\" class=\"dataframe\">\n",
              "  <thead>\n",
              "    <tr style=\"text-align: right;\">\n",
              "      <th></th>\n",
              "      <th>category</th>\n",
              "      <th>text</th>\n",
              "    </tr>\n",
              "  </thead>\n",
              "  <tbody>\n",
              "    <tr>\n",
              "      <th>count</th>\n",
              "      <td>2225</td>\n",
              "      <td>2225</td>\n",
              "    </tr>\n",
              "    <tr>\n",
              "      <th>unique</th>\n",
              "      <td>5</td>\n",
              "      <td>2126</td>\n",
              "    </tr>\n",
              "    <tr>\n",
              "      <th>top</th>\n",
              "      <td>sport</td>\n",
              "      <td>kennedy questions trust of blair lib dem leade...</td>\n",
              "    </tr>\n",
              "    <tr>\n",
              "      <th>freq</th>\n",
              "      <td>511</td>\n",
              "      <td>2</td>\n",
              "    </tr>\n",
              "  </tbody>\n",
              "</table>\n",
              "</div>\n",
              "      <button class=\"colab-df-convert\" onclick=\"convertToInteractive('df-50ce1209-cb3e-49f1-806e-1df2a61e24f4')\"\n",
              "              title=\"Convert this dataframe to an interactive table.\"\n",
              "              style=\"display:none;\">\n",
              "        \n",
              "  <svg xmlns=\"http://www.w3.org/2000/svg\" height=\"24px\"viewBox=\"0 0 24 24\"\n",
              "       width=\"24px\">\n",
              "    <path d=\"M0 0h24v24H0V0z\" fill=\"none\"/>\n",
              "    <path d=\"M18.56 5.44l.94 2.06.94-2.06 2.06-.94-2.06-.94-.94-2.06-.94 2.06-2.06.94zm-11 1L8.5 8.5l.94-2.06 2.06-.94-2.06-.94L8.5 2.5l-.94 2.06-2.06.94zm10 10l.94 2.06.94-2.06 2.06-.94-2.06-.94-.94-2.06-.94 2.06-2.06.94z\"/><path d=\"M17.41 7.96l-1.37-1.37c-.4-.4-.92-.59-1.43-.59-.52 0-1.04.2-1.43.59L10.3 9.45l-7.72 7.72c-.78.78-.78 2.05 0 2.83L4 21.41c.39.39.9.59 1.41.59.51 0 1.02-.2 1.41-.59l7.78-7.78 2.81-2.81c.8-.78.8-2.07 0-2.86zM5.41 20L4 18.59l7.72-7.72 1.47 1.35L5.41 20z\"/>\n",
              "  </svg>\n",
              "      </button>\n",
              "      \n",
              "  <style>\n",
              "    .colab-df-container {\n",
              "      display:flex;\n",
              "      flex-wrap:wrap;\n",
              "      gap: 12px;\n",
              "    }\n",
              "\n",
              "    .colab-df-convert {\n",
              "      background-color: #E8F0FE;\n",
              "      border: none;\n",
              "      border-radius: 50%;\n",
              "      cursor: pointer;\n",
              "      display: none;\n",
              "      fill: #1967D2;\n",
              "      height: 32px;\n",
              "      padding: 0 0 0 0;\n",
              "      width: 32px;\n",
              "    }\n",
              "\n",
              "    .colab-df-convert:hover {\n",
              "      background-color: #E2EBFA;\n",
              "      box-shadow: 0px 1px 2px rgba(60, 64, 67, 0.3), 0px 1px 3px 1px rgba(60, 64, 67, 0.15);\n",
              "      fill: #174EA6;\n",
              "    }\n",
              "\n",
              "    [theme=dark] .colab-df-convert {\n",
              "      background-color: #3B4455;\n",
              "      fill: #D2E3FC;\n",
              "    }\n",
              "\n",
              "    [theme=dark] .colab-df-convert:hover {\n",
              "      background-color: #434B5C;\n",
              "      box-shadow: 0px 1px 3px 1px rgba(0, 0, 0, 0.15);\n",
              "      filter: drop-shadow(0px 1px 2px rgba(0, 0, 0, 0.3));\n",
              "      fill: #FFFFFF;\n",
              "    }\n",
              "  </style>\n",
              "\n",
              "      <script>\n",
              "        const buttonEl =\n",
              "          document.querySelector('#df-50ce1209-cb3e-49f1-806e-1df2a61e24f4 button.colab-df-convert');\n",
              "        buttonEl.style.display =\n",
              "          google.colab.kernel.accessAllowed ? 'block' : 'none';\n",
              "\n",
              "        async function convertToInteractive(key) {\n",
              "          const element = document.querySelector('#df-50ce1209-cb3e-49f1-806e-1df2a61e24f4');\n",
              "          const dataTable =\n",
              "            await google.colab.kernel.invokeFunction('convertToInteractive',\n",
              "                                                     [key], {});\n",
              "          if (!dataTable) return;\n",
              "\n",
              "          const docLinkHtml = 'Like what you see? Visit the ' +\n",
              "            '<a target=\"_blank\" href=https://colab.research.google.com/notebooks/data_table.ipynb>data table notebook</a>'\n",
              "            + ' to learn more about interactive tables.';\n",
              "          element.innerHTML = '';\n",
              "          dataTable['output_type'] = 'display_data';\n",
              "          await google.colab.output.renderOutput(dataTable, element);\n",
              "          const docLink = document.createElement('div');\n",
              "          docLink.innerHTML = docLinkHtml;\n",
              "          element.appendChild(docLink);\n",
              "        }\n",
              "      </script>\n",
              "    </div>\n",
              "  </div>\n",
              "  "
            ]
          },
          "metadata": {},
          "execution_count": 6
        }
      ]
    },
    {
      "cell_type": "code",
      "source": [
        "df.info()"
      ],
      "metadata": {
        "colab": {
          "base_uri": "https://localhost:8080/"
        },
        "id": "x7fYJEcQTeuM",
        "outputId": "4da239da-878f-44d6-e94f-16c63663571b"
      },
      "execution_count": 7,
      "outputs": [
        {
          "output_type": "stream",
          "name": "stdout",
          "text": [
            "<class 'pandas.core.frame.DataFrame'>\n",
            "RangeIndex: 2225 entries, 0 to 2224\n",
            "Data columns (total 2 columns):\n",
            " #   Column    Non-Null Count  Dtype \n",
            "---  ------    --------------  ----- \n",
            " 0   category  2225 non-null   object\n",
            " 1   text      2225 non-null   object\n",
            "dtypes: object(2)\n",
            "memory usage: 34.9+ KB\n"
          ]
        }
      ]
    },
    {
      "cell_type": "code",
      "source": [
        "df['category'].value_counts()"
      ],
      "metadata": {
        "colab": {
          "base_uri": "https://localhost:8080/"
        },
        "id": "ejVp7QDOTfqq",
        "outputId": "8d5b2f42-daa1-420c-83ed-7fda9a3ce3ec"
      },
      "execution_count": 9,
      "outputs": [
        {
          "output_type": "execute_result",
          "data": {
            "text/plain": [
              "sport            511\n",
              "business         510\n",
              "politics         417\n",
              "tech             401\n",
              "entertainment    386\n",
              "Name: category, dtype: int64"
            ]
          },
          "metadata": {},
          "execution_count": 9
        }
      ]
    },
    {
      "cell_type": "markdown",
      "source": [
        "There are 5 labels in the category feature whose count is approximately same"
      ],
      "metadata": {
        "id": "ZfHDjJdPTk0N"
      }
    },
    {
      "cell_type": "code",
      "source": [
        "import seaborn as sns\n",
        "sns.countplot(x='category',data=df)"
      ],
      "metadata": {
        "colab": {
          "base_uri": "https://localhost:8080/",
          "height": 466
        },
        "id": "yHrN8RlUTit-",
        "outputId": "cda2cabe-3613-4ced-b8ea-530585816e68"
      },
      "execution_count": 13,
      "outputs": [
        {
          "output_type": "execute_result",
          "data": {
            "text/plain": [
              "<Axes: xlabel='category', ylabel='count'>"
            ]
          },
          "metadata": {},
          "execution_count": 13
        },
        {
          "output_type": "display_data",
          "data": {
            "text/plain": [
              "<Figure size 640x480 with 1 Axes>"
            ],
            "image/png": "[encoded data removed]"
          },
          "metadata": {}
        }
      ]
    },
    {
      "cell_type": "markdown",
      "source": [
        "# 2. Data Preprocessing"
      ],
      "metadata": {
        "id": "S_rZdP8tUCUh"
      }
    },
    {
      "cell_type": "code",
      "source": [
        "# Let's remove stopwords\n",
        "import nltk\n",
        "from nltk.stem import PorterStemmer\n",
        "from nltk.corpus import stopwords"
      ],
      "metadata": {
        "id": "Bibch6hkTr7U"
      },
      "execution_count": 14,
      "outputs": []
    },
    {
      "cell_type": "code",
      "source": [
        "nltk.download('stopwords')"
      ],
      "metadata": {
        "colab": {
          "base_uri": "https://localhost:8080/"
        },
        "id": "Z77KyM0wUGrj",
        "outputId": "18064abb-c257-4779-e1ca-cfcf2012d66b"
      },
      "execution_count": 15,
      "outputs": [
        {
          "output_type": "stream",
          "name": "stderr",
          "text": [
            "[nltk_data] Downloading package stopwords to /root/nltk_data...\n",
            "[nltk_data]   Unzipping corpora/stopwords.zip.\n"
          ]
        },
        {
          "output_type": "execute_result",
          "data": {
            "text/plain": [
              "True"
            ]
          },
          "metadata": {},
          "execution_count": 15
        }
      ]
    },
    {
      "cell_type": "code",
      "source": [
        "from nltk.stem.porter import PorterStemmer\n",
        "ps = PorterStemmer()"
      ],
      "metadata": {
        "id": "UOWhm_G3UHrl"
      },
      "execution_count": 16,
      "outputs": []
    },
    {
      "cell_type": "code",
      "source": [
        "text = df['text']\n",
        "category = df['category']"
      ],
      "metadata": {
        "id": "rXZ0f3jkUQXj"
      },
      "execution_count": 18,
      "outputs": []
    },
    {
      "cell_type": "code",
      "source": [
        "import re"
      ],
      "metadata": {
        "id": "uAyj9CyCUU8V"
      },
      "execution_count": 19,
      "outputs": []
    },
    {
      "cell_type": "code",
      "source": [
        "corpus = []\n",
        "for i in range(len(text)):\n",
        "    x = text[i]\n",
        "    temp = re.sub('[^a-zA-Z0-9]',' ',x)  # Removing Unnecessary words\n",
        "    temp = temp.lower()  # Converting them to lowercase\n",
        "    temp = temp.split()  # Splitting the words\n",
        "\n",
        "    # Appending words not found in stopwords\n",
        "    temp = [ps.stem(word) for word in temp if not word in stopwords.words('english')]\n",
        "    temp = ' '.join(temp)\n",
        "    corpus.append(temp)"
      ],
      "metadata": {
        "id": "8R3OYTn3UIb_"
      },
      "execution_count": 20,
      "outputs": []
    },
    {
      "cell_type": "code",
      "source": [
        "text[3]"
      ],
      "metadata": {
        "colab": {
          "base_uri": "https://localhost:8080/",
          "height": 123
        },
        "id": "L9yRhwJsUVX4",
        "outputId": "9ec8901a-1e74-4159-ec51-a73d70b6452d"
      },
      "execution_count": 21,
      "outputs": [
        {
          "output_type": "execute_result",
          "data": {
            "text/plain": [
              "'yeading face newcastle in fa cup premiership side newcastle united face a trip to ryman premier league leaders yeading in the fa cup third round.  the game - arguably the highlight of the draw - is a potential money-spinner for non-league yeading  who beat slough in the second round. conference side exeter city  who knocked out doncaster on saturday  will travel to old trafford to meet holders manchester united in january. arsenal were drawn at home to stoke and chelsea will play host to scunthorpe. the only other non-league side in the draw are hinckley united  who held brentford to a goalless draw on sunday. they will meet league one leaders luton if they win their replay against martin allen s team at griffin park.  a number of premiership teams face difficult away games against championship sides on the weekend of 8/9 january. third-placed everton visit plymouth  liverpool travel to burnley  crystal palace go to sunderland  fulham face carling cup semi-finalists watford  bolton meet ipswich  while aston villa were drawn against sheffield united. premiership strugglers norwich  blackburn  west brom are away at west ham  cardiff and preston north end respectively. southampton visit northampton  having already beaten the league two side in the carling cup earlier this season. middlesbrough were drawn away against either swindon or notts county  while spurs entertain brighton at white hart lane.  arsenal v stoke  swindon/notts co v middlesbrough  man utd v exeter  plymouth v everton  leicester v blackpool  derby v wigan  sunderland v crystal palace  wolves v millwall  yeading v newcastle  hull v colchester  tottenham v brighton  reading v stockport/swansea  birmingham v leeds  hartlepool v boston  milton keynes dons v peterborough  oldham v man city  chelsea v scunthorpe  cardiff v blackburn  charlton v rochdale  west ham v norwich  sheff utd v aston villa  preston v west brom  rotherham v yeovil  burnley v liverpool  bournemouth v chester  coventry v crewe  watford v fulham  ipswich v bolton  portsmouth v gillingham  northampton v southampton  qpr v nottm forest  luton v hinckley/brentford  matches to be played on weekend of 8/9 january.'"
            ],
            "application/vnd.google.colaboratory.intrinsic+json": {
              "type": "string"
            }
          },
          "metadata": {},
          "execution_count": 21
        }
      ]
    },
    {
      "cell_type": "code",
      "source": [
        "len(text)"
      ],
      "metadata": {
        "colab": {
          "base_uri": "https://localhost:8080/"
        },
        "id": "W5W3oUepUZVK",
        "outputId": "5bb02e7b-f602-4288-da4c-130fcb1ac23c"
      },
      "execution_count": 22,
      "outputs": [
        {
          "output_type": "execute_result",
          "data": {
            "text/plain": [
              "2225"
            ]
          },
          "metadata": {},
          "execution_count": 22
        }
      ]
    },
    {
      "cell_type": "code",
      "source": [
        "length = 0\n",
        "for i in text:\n",
        "  length = max(len(i),length)\n",
        "length"
      ],
      "metadata": {
        "colab": {
          "base_uri": "https://localhost:8080/"
        },
        "id": "vTzjkXFLUwTM",
        "outputId": "628e0387-b23f-45d7-90ef-768b24465073"
      },
      "execution_count": 24,
      "outputs": [
        {
          "output_type": "execute_result",
          "data": {
            "text/plain": [
              "25483"
            ]
          },
          "metadata": {},
          "execution_count": 24
        }
      ]
    },
    {
      "cell_type": "markdown",
      "source": [
        "Lets make use of the word2vec model from google"
      ],
      "metadata": {
        "id": "xhsJryhjU7pi"
      }
    },
    {
      "cell_type": "code",
      "source": [
        "len(corpus)"
      ],
      "metadata": {
        "colab": {
          "base_uri": "https://localhost:8080/"
        },
        "id": "FFH3sY04U1Ta",
        "outputId": "06e79258-ebf2-47c3-d93d-ec65fb93019f"
      },
      "execution_count": 25,
      "outputs": [
        {
          "output_type": "execute_result",
          "data": {
            "text/plain": [
              "2225"
            ]
          },
          "metadata": {},
          "execution_count": 25
        }
      ]
    },
    {
      "cell_type": "code",
      "source": [
        "!pip install gensim"
      ],
      "metadata": {
        "colab": {
          "base_uri": "https://localhost:8080/"
        },
        "id": "eygb5ubMVA3M",
        "outputId": "682f206d-1d3f-4121-9f45-19b151690836"
      },
      "execution_count": 26,
      "outputs": [
        {
          "output_type": "stream",
          "name": "stdout",
          "text": [
            "Looking in indexes: https://pypi.org/simple, https://us-python.pkg.dev/colab-wheels/public/simple/\n",
            "Requirement already satisfied: gensim in /usr/local/lib/python3.10/dist-packages (4.3.1)\n",
            "Requirement already satisfied: numpy>=1.18.5 in /usr/local/lib/python3.10/dist-packages (from gensim) (1.22.4)\n",
            "Requirement already satisfied: scipy>=1.7.0 in /usr/local/lib/python3.10/dist-packages (from gensim) (1.10.1)\n",
            "Requirement already satisfied: smart-open>=1.8.1 in /usr/local/lib/python3.10/dist-packages (from gensim) (6.3.0)\n"
          ]
        }
      ]
    },
    {
      "cell_type": "code",
      "source": [
        "import gensim\n",
        "from gensim.models import Word2Vec, KeyedVectors\n",
        "import gensim.downloader as api\n",
        "\n",
        "wv = api.load('word2vec-google-news-300')"
      ],
      "metadata": {
        "colab": {
          "base_uri": "https://localhost:8080/"
        },
        "id": "0lcPGKnjVCcr",
        "outputId": "4d851e91-04f8-4229-dbf1-1b2fd207cc16"
      },
      "execution_count": 27,
      "outputs": [
        {
          "output_type": "stream",
          "name": "stdout",
          "text": [
            "[=================================================-] 99.7% 1658.6/1662.8MB downloaded\n"
          ]
        }
      ]
    },
    {
      "cell_type": "code",
      "source": [
        "from nltk import sent_tokenize\n",
        "from gensim.utils import simple_preprocess"
      ],
      "metadata": {
        "id": "T0hH7sgaVFYC"
      },
      "execution_count": 28,
      "outputs": []
    },
    {
      "cell_type": "code",
      "source": [
        "nltk.download('punkt')"
      ],
      "metadata": {
        "colab": {
          "base_uri": "https://localhost:8080/"
        },
        "id": "mElpOunGVLse",
        "outputId": "3148fa97-6796-4d1c-c0fd-29d32b375802"
      },
      "execution_count": 29,
      "outputs": [
        {
          "output_type": "stream",
          "name": "stderr",
          "text": [
            "[nltk_data] Downloading package punkt to /root/nltk_data...\n",
            "[nltk_data]   Unzipping tokenizers/punkt.zip.\n"
          ]
        },
        {
          "output_type": "execute_result",
          "data": {
            "text/plain": [
              "True"
            ]
          },
          "metadata": {},
          "execution_count": 29
        }
      ]
    },
    {
      "cell_type": "code",
      "source": [
        "words = []\n",
        "for sent in corpus:\n",
        "  sent_token = sent_tokenize(sent) ## Tokenization\n",
        "  for sent in sent_token:\n",
        "    words.append(simple_preprocess(sent)) ## Lowering the words"
      ],
      "metadata": {
        "id": "2d-_bwzKVMrR"
      },
      "execution_count": 30,
      "outputs": []
    },
    {
      "cell_type": "code",
      "source": [
        "model = gensim.models.Word2Vec(words,window=5,min_count=2)\n",
        "w2v_model = model"
      ],
      "metadata": {
        "id": "mP0Tub_IW3Z9"
      },
      "execution_count": 107,
      "outputs": []
    },
    {
      "cell_type": "code",
      "source": [
        "sent_tokenize(corpus[0])"
      ],
      "metadata": {
        "colab": {
          "base_uri": "https://localhost:8080/"
        },
        "id": "Bh1-iMX1XzKL",
        "outputId": "c01ed9f5-8089-468e-b8f4-28f0d979d197"
      },
      "execution_count": 39,
      "outputs": [
        {
          "output_type": "execute_result",
          "data": {
            "text/plain": [
              "['tv futur hand viewer home theatr system plasma high definit tv digit video record move live room way peopl watch tv radic differ five year time accord expert panel gather annual consum electron show la vega discuss new technolog impact one favourit pastim us lead trend programm content deliv viewer via home network cabl satellit telecom compani broadband servic provid front room portabl devic one talk technolog ce digit person video record dvr pvr set top box like us tivo uk sky system allow peopl record store play paus forward wind tv programm want essenti technolog allow much personalis tv also built high definit tv set big busi japan us slower take europ lack high definit program peopl forward wind advert also forget abid network channel schedul put togeth la cart entertain us network cabl satellit compani worri mean term advertis revenu well brand ident viewer loyalti channel although us lead technolog moment also concern rais europ particularli grow uptak servic like sky happen today see nine month year time uk adam hume bbc broadcast futurologist told bbc news websit like bbc issu lost advertis revenu yet press issu moment commerci uk broadcast brand loyalti import everyon talk content brand rather network brand said tim hanlon brand commun firm starcom mediavest realiti broadband connect anybodi produc content ad challeng hard promot programm much choic mean said stacey jolna senior vice presid tv guid tv group way peopl find content want watch simplifi tv viewer mean network us term channel could take leaf googl book search engin futur instead schedul help peopl find want watch kind channel model might work younger ipod gener use take control gadget play might suit everyon panel recognis older gener comfort familiar schedul channel brand know get perhap want much choic put hand mr hanlon suggest end kid diaper push button alreadi everyth possibl avail said mr hanlon ultim consum tell market want 50 000 new gadget technolog showcas ce mani enhanc tv watch experi high definit tv set everywher mani new model lcd liquid crystal display tv launch dvr capabl built instead extern box one exampl launch show humax 26 inch lcd tv 80 hour tivo dvr dvd record one us biggest satellit tv compani directtv even launch brand dvr show 100 hour record capabl instant replay search function set paus rewind tv 90 hour microsoft chief bill gate announc pre show keynot speech partnership tivo call tivotogo mean peopl play record programm window pc mobil devic reflect increas trend free multimedia peopl watch want want']"
            ]
          },
          "metadata": {},
          "execution_count": 39
        }
      ]
    },
    {
      "cell_type": "code",
      "source": [
        "# Now lets conver the output category into numeric by encoding them\n",
        "y = pd.get_dummies(df['category'],columns=df[\"category\"]).values\n",
        "y"
      ],
      "metadata": {
        "colab": {
          "base_uri": "https://localhost:8080/"
        },
        "id": "iE6HO1XzdHFw",
        "outputId": "761a6e75-6851-443f-aeb5-626483d2a816"
      },
      "execution_count": 74,
      "outputs": [
        {
          "output_type": "execute_result",
          "data": {
            "text/plain": [
              "array([[0, 0, 0, 0, 1],\n",
              "       [1, 0, 0, 0, 0],\n",
              "       [0, 0, 0, 1, 0],\n",
              "       ...,\n",
              "       [0, 1, 0, 0, 0],\n",
              "       [0, 0, 1, 0, 0],\n",
              "       [0, 0, 0, 1, 0]], dtype=uint8)"
            ]
          },
          "metadata": {},
          "execution_count": 74
        }
      ]
    },
    {
      "cell_type": "code",
      "source": [
        "# Split the data\n",
        "from sklearn.model_selection import train_test_split\n",
        "x_train,x_test,y_train,y_test = train_test_split(corpus,y,test_size=0.3,random_state=24)"
      ],
      "metadata": {
        "id": "-6QOA23QakpM"
      },
      "execution_count": 75,
      "outputs": []
    },
    {
      "cell_type": "code",
      "source": [
        "train_words = []\n",
        "for sent in x_train:\n",
        "  sent_token = sent_tokenize(sent) ## Tokenization\n",
        "  for sent in sent_token:\n",
        "    train_words.append(simple_preprocess(sent)) ## Lowering the words"
      ],
      "metadata": {
        "id": "d_6sOY05azTb"
      },
      "execution_count": 76,
      "outputs": []
    },
    {
      "cell_type": "code",
      "source": [
        "model = gensim.models.Word2Vec(train_words,window=5,min_count=2)"
      ],
      "metadata": {
        "id": "DhdXAgUubYW8"
      },
      "execution_count": 77,
      "outputs": []
    },
    {
      "cell_type": "code",
      "source": [
        "model.wv.index_to_key"
      ],
      "metadata": {
        "colab": {
          "base_uri": "https://localhost:8080/"
        },
        "id": "NW3UZqCxW5jE",
        "outputId": "1fdbb42f-e17e-49d2-ee3d-da2d8647c9f2"
      },
      "execution_count": 78,
      "outputs": [
        {
          "output_type": "execute_result",
          "data": {
            "text/plain": [
              "['said',\n",
              " 'year',\n",
              " 'mr',\n",
              " 'would',\n",
              " 'also',\n",
              " 'peopl',\n",
              " 'us',\n",
              " 'new',\n",
              " 'one',\n",
              " 'game',\n",
              " 'time',\n",
              " 'say',\n",
              " 'use',\n",
              " 'could',\n",
              " 'last',\n",
              " 'make',\n",
              " 'first',\n",
              " 'go',\n",
              " 'like',\n",
              " 'film',\n",
              " 'two',\n",
              " 'govern',\n",
              " 'play',\n",
              " 'take',\n",
              " 'uk',\n",
              " 'get',\n",
              " 'world',\n",
              " 'compani',\n",
              " 'work',\n",
              " 'back',\n",
              " 'show',\n",
              " 'best',\n",
              " 'win',\n",
              " 'music',\n",
              " 'firm',\n",
              " 'want',\n",
              " 'market',\n",
              " 'bn',\n",
              " 'servic',\n",
              " 'number',\n",
              " 'month',\n",
              " 'includ',\n",
              " 'set',\n",
              " 'mani',\n",
              " 'come',\n",
              " 'told',\n",
              " 'way',\n",
              " 'ad',\n",
              " 'report',\n",
              " 'plan',\n",
              " 'made',\n",
              " 'need',\n",
              " 'countri',\n",
              " 'labour',\n",
              " 'home',\n",
              " 'three',\n",
              " 'look',\n",
              " 'parti',\n",
              " 'expect',\n",
              " 'elect',\n",
              " 'week',\n",
              " 'day',\n",
              " 'well',\n",
              " 'call',\n",
              " 'next',\n",
              " 'sale',\n",
              " 'bbc',\n",
              " 'player',\n",
              " 'think',\n",
              " 'good',\n",
              " 'million',\n",
              " 'minist',\n",
              " 'technolog',\n",
              " 'second',\n",
              " 'nation',\n",
              " 'award',\n",
              " 'may',\n",
              " 'record',\n",
              " 'mobil',\n",
              " 'see',\n",
              " 'right',\n",
              " 'help',\n",
              " 'top',\n",
              " 'start',\n",
              " 'share',\n",
              " 'part',\n",
              " 'still',\n",
              " 'much',\n",
              " 'open',\n",
              " 'tv',\n",
              " 'end',\n",
              " 'move',\n",
              " 'public',\n",
              " 'group',\n",
              " 'tax',\n",
              " 'gener',\n",
              " 'england',\n",
              " 'sinc',\n",
              " 'price',\n",
              " 'offer',\n",
              " 'blair',\n",
              " 'high',\n",
              " 'bank',\n",
              " 'claim',\n",
              " 'phone',\n",
              " 'increas',\n",
              " 'even',\n",
              " 'star',\n",
              " 'put',\n",
              " 'tri',\n",
              " 'chang',\n",
              " 'run',\n",
              " 'issu',\n",
              " 'five',\n",
              " 'industri',\n",
              " 'busi',\n",
              " 'british',\n",
              " 'believ',\n",
              " 'develop',\n",
              " 'final',\n",
              " 'news',\n",
              " 'place',\n",
              " 'current',\n",
              " 'european',\n",
              " 'give',\n",
              " 'hope',\n",
              " 'howev',\n",
              " 'follow',\n",
              " 'system',\n",
              " 'hit',\n",
              " 'point',\n",
              " 'cost',\n",
              " 'tori',\n",
              " 'state',\n",
              " 'offic',\n",
              " 'director',\n",
              " 'face',\n",
              " 'manag',\n",
              " 'rise',\n",
              " 'six',\n",
              " 'rate',\n",
              " 'comput',\n",
              " 'growth',\n",
              " 'alreadi',\n",
              " 'job',\n",
              " 'economi',\n",
              " 'old',\n",
              " 'cut',\n",
              " 'digit',\n",
              " 'support',\n",
              " 'rule',\n",
              " 'london',\n",
              " 'figur',\n",
              " 'chief',\n",
              " 'half',\n",
              " 'continu',\n",
              " 'product',\n",
              " 'four',\n",
              " 'recent',\n",
              " 'brown',\n",
              " 'user',\n",
              " 'accord',\n",
              " 'base',\n",
              " 'third',\n",
              " 'team',\n",
              " 'deal',\n",
              " 'releas',\n",
              " 'perform',\n",
              " 'becom',\n",
              " 'problem',\n",
              " 'secur',\n",
              " 'allow',\n",
              " 'decis',\n",
              " 'net',\n",
              " 'spend',\n",
              " 'intern',\n",
              " 'law',\n",
              " 'britain',\n",
              " 'interest',\n",
              " 'meet',\n",
              " 'unit',\n",
              " 'long',\n",
              " 'lord',\n",
              " 'know',\n",
              " 'big',\n",
              " 'analyst',\n",
              " 'announc',\n",
              " 'econom',\n",
              " 'thing',\n",
              " 'power',\n",
              " 'live',\n",
              " 'oper',\n",
              " 'campaign',\n",
              " 'club',\n",
              " 'money',\n",
              " 'consum',\n",
              " 'lead',\n",
              " 'mean',\n",
              " 'court',\n",
              " 'network',\n",
              " 'trade',\n",
              " 'match',\n",
              " 'around',\n",
              " 'europ',\n",
              " 'control',\n",
              " 'success',\n",
              " 'former',\n",
              " 'line',\n",
              " 'close',\n",
              " 'person',\n",
              " 'side',\n",
              " 'great',\n",
              " 'case',\n",
              " 'produc',\n",
              " 'remain',\n",
              " 'result',\n",
              " 'name',\n",
              " 'leader',\n",
              " 'video',\n",
              " 'find',\n",
              " 'howard',\n",
              " 'futur',\n",
              " 'launch',\n",
              " 'major',\n",
              " 'titl',\n",
              " 'differ',\n",
              " 'return',\n",
              " 'realli',\n",
              " 'warn',\n",
              " 'inform',\n",
              " 'pay',\n",
              " 'franc',\n",
              " 'life',\n",
              " 'anoth',\n",
              " 'softwar',\n",
              " 'spokesman',\n",
              " 'mp',\n",
              " 'creat',\n",
              " 'vote',\n",
              " 'polit',\n",
              " 'concern',\n",
              " 'suggest',\n",
              " 'took',\n",
              " 'found',\n",
              " 'got',\n",
              " 'talk',\n",
              " 'programm',\n",
              " 'wale',\n",
              " 'execut',\n",
              " 'lot',\n",
              " 'onlin',\n",
              " 'attack',\n",
              " 'hous',\n",
              " 'import',\n",
              " 'ask',\n",
              " 'real',\n",
              " 'term',\n",
              " 'came',\n",
              " 'better',\n",
              " 'websit',\n",
              " 'research',\n",
              " 'provid',\n",
              " 'level',\n",
              " 'head',\n",
              " 'member',\n",
              " 'action',\n",
              " 'role',\n",
              " 'seen',\n",
              " 'media',\n",
              " 'given',\n",
              " 'fund',\n",
              " 'act',\n",
              " 'site',\n",
              " 'hold',\n",
              " 'biggest',\n",
              " 'pc',\n",
              " 'despit',\n",
              " 'minut',\n",
              " 'list',\n",
              " 'invest',\n",
              " 'receiv',\n",
              " 'song',\n",
              " 'mail',\n",
              " 'bill',\n",
              " 'quarter',\n",
              " 'chanc',\n",
              " 'everi',\n",
              " 'turn',\n",
              " 'foreign',\n",
              " 'forc',\n",
              " 'test',\n",
              " 'decemb',\n",
              " 'posit',\n",
              " 'oil',\n",
              " 'secretari',\n",
              " 'legal',\n",
              " 'local',\n",
              " 'presid',\n",
              " 'dollar',\n",
              " 'appear',\n",
              " 'data',\n",
              " 'profit',\n",
              " 'far',\n",
              " 'demand',\n",
              " 'prime',\n",
              " 'without',\n",
              " 'broadband',\n",
              " 'internet',\n",
              " 'hand',\n",
              " 'polic',\n",
              " 'ireland',\n",
              " 'lost',\n",
              " 'abl',\n",
              " 'radio',\n",
              " 'access',\n",
              " 'file',\n",
              " 'buy',\n",
              " 'whether',\n",
              " 'although',\n",
              " 'reach',\n",
              " 'less',\n",
              " 'china',\n",
              " 'band',\n",
              " 'fall',\n",
              " 'januari',\n",
              " 'keep',\n",
              " 'account',\n",
              " 'charg',\n",
              " 'injuri',\n",
              " 'away',\n",
              " 'william',\n",
              " 'children',\n",
              " 'cup',\n",
              " 'let',\n",
              " 'earli',\n",
              " 'past',\n",
              " 'singl',\n",
              " 'sport',\n",
              " 'competit',\n",
              " 'hard',\n",
              " 'due',\n",
              " 'left',\n",
              " 'season',\n",
              " 'sign',\n",
              " 'school',\n",
              " 'commun',\n",
              " 'michael',\n",
              " 'free',\n",
              " 'search',\n",
              " 'microsoft',\n",
              " 'offici',\n",
              " 'devic',\n",
              " 'euro',\n",
              " 'conserv',\n",
              " 'held',\n",
              " 'eu',\n",
              " 'council',\n",
              " 'thought',\n",
              " 'fan',\n",
              " 'fail',\n",
              " 'later',\n",
              " 'low',\n",
              " 'agre',\n",
              " 'propos',\n",
              " 'ahead',\n",
              " 'centr',\n",
              " 'clear',\n",
              " 'bid',\n",
              " 'mark',\n",
              " 'anti',\n",
              " 'respons',\n",
              " 'someth',\n",
              " 'card',\n",
              " 'chancellor',\n",
              " 'littl',\n",
              " 'rais',\n",
              " 'south',\n",
              " 'famili',\n",
              " 'form',\n",
              " 'never',\n",
              " 'strong',\n",
              " 'hour',\n",
              " 'went',\n",
              " 'polici',\n",
              " 'critic',\n",
              " 'american',\n",
              " 'area',\n",
              " 'movi',\n",
              " 'happen',\n",
              " 'direct',\n",
              " 'possibl',\n",
              " 'actor',\n",
              " 'yet',\n",
              " 'financi',\n",
              " 'question',\n",
              " 'download',\n",
              " 'almost',\n",
              " 'must',\n",
              " 'organis',\n",
              " 'miss',\n",
              " 'key',\n",
              " 'david',\n",
              " 'messag',\n",
              " 'order',\n",
              " 'improv',\n",
              " 'full',\n",
              " 'sold',\n",
              " 'man',\n",
              " 'comment',\n",
              " 'event',\n",
              " 'total',\n",
              " 'huge',\n",
              " 'sell',\n",
              " 'grow',\n",
              " 'nomin',\n",
              " 'earlier',\n",
              " 'champion',\n",
              " 'budget',\n",
              " 'sunday',\n",
              " 'coach',\n",
              " 'among',\n",
              " 'war',\n",
              " 'break',\n",
              " 'book',\n",
              " 'decid',\n",
              " 'alway',\n",
              " 'rather',\n",
              " 'union',\n",
              " 'project',\n",
              " 'latest',\n",
              " 'machin',\n",
              " 'statement',\n",
              " 'march',\n",
              " 'ago',\n",
              " 'seri',\n",
              " 'target',\n",
              " 'ms',\n",
              " 'screen',\n",
              " 'scotland',\n",
              " 'present',\n",
              " 'feel',\n",
              " 'men',\n",
              " 'beat',\n",
              " 'goal',\n",
              " 'ever',\n",
              " 'effect',\n",
              " 'citi',\n",
              " 'john',\n",
              " 'chairman',\n",
              " 'india',\n",
              " 'olymp',\n",
              " 'drop',\n",
              " 'design',\n",
              " 'album',\n",
              " 'women',\n",
              " 'save',\n",
              " 'done',\n",
              " 'might',\n",
              " 'protect',\n",
              " 'global',\n",
              " 'involv',\n",
              " 'ban',\n",
              " 'wide',\n",
              " 'featur',\n",
              " 'build',\n",
              " 'chart',\n",
              " 'race',\n",
              " 'stop',\n",
              " 'toni',\n",
              " 'februari',\n",
              " 'rugbi',\n",
              " 'replac',\n",
              " 'winner',\n",
              " 'aid',\n",
              " 'program',\n",
              " 'human',\n",
              " 'bring',\n",
              " 'content',\n",
              " 'japan',\n",
              " 'standard',\n",
              " 'novemb',\n",
              " 'consid',\n",
              " 'broadcast',\n",
              " 'associ',\n",
              " 'victori',\n",
              " 'version',\n",
              " 'feder',\n",
              " 'view',\n",
              " 'dvd',\n",
              " 'challeng',\n",
              " 'behind',\n",
              " 'taken',\n",
              " 'aim',\n",
              " 'limit',\n",
              " 'earn',\n",
              " 'predict',\n",
              " 'small',\n",
              " 'custom',\n",
              " 'prize',\n",
              " 'enough',\n",
              " 'th',\n",
              " 'confid',\n",
              " 'deni',\n",
              " 'quit',\n",
              " 'popular',\n",
              " 'promis',\n",
              " 'join',\n",
              " 'across',\n",
              " 'wednesday',\n",
              " 'author',\n",
              " 'least',\n",
              " 'drive',\n",
              " 'sever',\n",
              " 'tuesday',\n",
              " 'street',\n",
              " 'stock',\n",
              " 'commiss',\n",
              " 'oscar',\n",
              " 'avail',\n",
              " 'stand',\n",
              " 'friday',\n",
              " 'young',\n",
              " 'host',\n",
              " 'opportun',\n",
              " 'box',\n",
              " 'love',\n",
              " 'festiv',\n",
              " 'drug',\n",
              " 'speed',\n",
              " 'car',\n",
              " 'main',\n",
              " 'cash',\n",
              " 'monday',\n",
              " 'origin',\n",
              " 'age',\n",
              " 'doubl',\n",
              " 'survey',\n",
              " 'soni',\n",
              " 'within',\n",
              " 'trial',\n",
              " 'larg',\n",
              " 'televis',\n",
              " 'forward',\n",
              " 'watch',\n",
              " 'choic',\n",
              " 'stage',\n",
              " 'committe',\n",
              " 'democrat',\n",
              " 'black',\n",
              " 'argu',\n",
              " 'valu',\n",
              " 'appl',\n",
              " 'lib',\n",
              " 'link',\n",
              " 'dem',\n",
              " 'yuko',\n",
              " 'today',\n",
              " 'career',\n",
              " 'idea',\n",
              " 'liber',\n",
              " 'chelsea',\n",
              " 'saw',\n",
              " 'higher',\n",
              " 'independ',\n",
              " 'fight',\n",
              " 'rose',\n",
              " 'fear',\n",
              " 'leav',\n",
              " 'connect',\n",
              " 'ensur',\n",
              " 'poll',\n",
              " 'bit',\n",
              " 'health',\n",
              " 'known',\n",
              " 'previou',\n",
              " 'russian',\n",
              " 'christma',\n",
              " 'appeal',\n",
              " 'damag',\n",
              " 'step',\n",
              " 'pictur',\n",
              " 'common',\n",
              " 'french',\n",
              " 'tour',\n",
              " 'boost',\n",
              " 'eight',\n",
              " 'board',\n",
              " 'though',\n",
              " 'univers',\n",
              " 'judg',\n",
              " 'debt',\n",
              " 'actress',\n",
              " 'short',\n",
              " 'train',\n",
              " 'potenti',\n",
              " 'process',\n",
              " 'iraq',\n",
              " 'annual',\n",
              " 'singer',\n",
              " 'battl',\n",
              " 'septemb',\n",
              " 'insist',\n",
              " 'educ',\n",
              " 'agenc',\n",
              " 'instead',\n",
              " 'score',\n",
              " 'web',\n",
              " 'saturday',\n",
              " 'giant',\n",
              " 'compar',\n",
              " 'fact',\n",
              " 'artist',\n",
              " 'camera',\n",
              " 'imag',\n",
              " 'maker',\n",
              " 'rang',\n",
              " 'seem',\n",
              " 'davi',\n",
              " 'begin',\n",
              " 'difficult',\n",
              " 'effort',\n",
              " 'rival',\n",
              " 'footbal',\n",
              " 'post',\n",
              " 'exchang',\n",
              " 'caus',\n",
              " 'voter',\n",
              " 'stori',\n",
              " 'accept',\n",
              " 'led',\n",
              " 'fourth',\n",
              " 'kick',\n",
              " 'evid',\n",
              " 'paul',\n",
              " 'other',\n",
              " 'complet',\n",
              " 'benefit',\n",
              " 'accus',\n",
              " 'immigr',\n",
              " 'sir',\n",
              " 'special',\n",
              " 'pressur',\n",
              " 'track',\n",
              " 'admit',\n",
              " 'attempt',\n",
              " 'pick',\n",
              " 'achiev',\n",
              " 'care',\n",
              " 'boss',\n",
              " 'commit',\n",
              " 'cannot',\n",
              " 'bt',\n",
              " 'consol',\n",
              " 'repres',\n",
              " 'affect',\n",
              " 'pension',\n",
              " 'introduc',\n",
              " 'confer',\n",
              " 'investor',\n",
              " 'york',\n",
              " 'reason',\n",
              " 'detail',\n",
              " 'speak',\n",
              " 'publish',\n",
              " 'lose',\n",
              " 'sure',\n",
              " 'blog',\n",
              " 'push',\n",
              " 'defend',\n",
              " 'togeth',\n",
              " 'reduc',\n",
              " 'entertain',\n",
              " 'ball',\n",
              " 'initi',\n",
              " 'carri',\n",
              " 'experi',\n",
              " 'rock',\n",
              " 'wait',\n",
              " 'liverpool',\n",
              " 'charl',\n",
              " 'gain',\n",
              " 'compet',\n",
              " 'date',\n",
              " 'noth',\n",
              " 'octob',\n",
              " 'risk',\n",
              " 'summer',\n",
              " 'gadget',\n",
              " 'fell',\n",
              " 'prove',\n",
              " 'domin',\n",
              " 'jone',\n",
              " 'serv',\n",
              " 'round',\n",
              " 'employ',\n",
              " 'reveal',\n",
              " 'amount',\n",
              " 'thursday',\n",
              " 'deliv',\n",
              " 'brand',\n",
              " 'moment',\n",
              " 'definit',\n",
              " 'extra',\n",
              " 'athlet',\n",
              " 'viru',\n",
              " 'engin',\n",
              " 'leagu',\n",
              " 'seven',\n",
              " 'period',\n",
              " 'favourit',\n",
              " 'finish',\n",
              " 'sent',\n",
              " 'pass',\n",
              " 'press',\n",
              " 'weekend',\n",
              " 'store',\n",
              " 'controversi',\n",
              " 'parliament',\n",
              " 'electron',\n",
              " 'late',\n",
              " 'smith',\n",
              " 'estim',\n",
              " 'co',\n",
              " 'measur',\n",
              " 'confirm',\n",
              " 'tell',\n",
              " 'financ',\n",
              " 'suffer',\n",
              " 'sector',\n",
              " 'export',\n",
              " 'stay',\n",
              " 'audienc',\n",
              " 'newspap',\n",
              " 'paid',\n",
              " 'grand',\n",
              " 'worri',\n",
              " 'depart',\n",
              " 'itali',\n",
              " 'reform',\n",
              " 'bodi',\n",
              " 'wrong',\n",
              " 'speech',\n",
              " 'categori',\n",
              " 'spam',\n",
              " 'championship',\n",
              " 'surpris',\n",
              " 'discuss',\n",
              " 'kennedi',\n",
              " 'prepar',\n",
              " 'send',\n",
              " 'dr',\n",
              " 'individu',\n",
              " 'scottish',\n",
              " 'gordon',\n",
              " 'seek',\n",
              " 'german',\n",
              " 'privat',\n",
              " 'parent',\n",
              " 'night',\n",
              " 'manchest',\n",
              " 'sound',\n",
              " 'investig',\n",
              " 'worker',\n",
              " 'trust',\n",
              " 'copi',\n",
              " 'revenu',\n",
              " 'germani',\n",
              " 'terror',\n",
              " 'loss',\n",
              " 'peer',\n",
              " 'word',\n",
              " 'air',\n",
              " 'model',\n",
              " 'arsen',\n",
              " 'debat',\n",
              " 'situat',\n",
              " 'whole',\n",
              " 'credit',\n",
              " 'voic',\n",
              " 'airlin',\n",
              " 'debut',\n",
              " 'cross',\n",
              " 'roddick',\n",
              " 'meanwhil',\n",
              " 'comedi',\n",
              " 'robert',\n",
              " 'per',\n",
              " 'defeat',\n",
              " 'forecast',\n",
              " 'student',\n",
              " 'mini',\n",
              " 'averag',\n",
              " 'fit',\n",
              " 'senior',\n",
              " 'squad',\n",
              " 'indian',\n",
              " 'russia',\n",
              " 'similar',\n",
              " 'illeg',\n",
              " 'poor',\n",
              " 'retail',\n",
              " 'bush',\n",
              " 'martin',\n",
              " 'channel',\n",
              " 'crimin',\n",
              " 'manufactur',\n",
              " 'address',\n",
              " 'matter',\n",
              " 'reject',\n",
              " 'regul',\n",
              " 'scheme',\n",
              " 'gave',\n",
              " 'qualiti',\n",
              " 'studi',\n",
              " 'west',\n",
              " 'read',\n",
              " 'simpli',\n",
              " 'incom',\n",
              " 'histori',\n",
              " 'sharehold',\n",
              " 'largest',\n",
              " 'outsid',\n",
              " 'emerg',\n",
              " 'sourc',\n",
              " 'impact',\n",
              " 'honour',\n",
              " 'spent',\n",
              " 'central',\n",
              " 'robinson',\n",
              " 'tackl',\n",
              " 'america',\n",
              " 'understand',\n",
              " 'pre',\n",
              " 'white',\n",
              " 'tsunami',\n",
              " 'travel',\n",
              " 'deutsch',\n",
              " 'australian',\n",
              " 'describ',\n",
              " 'exampl',\n",
              " 'cours',\n",
              " 'africa',\n",
              " 'alan',\n",
              " 'lower',\n",
              " 'activ',\n",
              " 'front',\n",
              " 'often',\n",
              " 'contract',\n",
              " 'ceremoni',\n",
              " 'window',\n",
              " 'fine',\n",
              " 'june',\n",
              " 'irish',\n",
              " 'reflect',\n",
              " 'madrid',\n",
              " 'jame',\n",
              " 'fraud',\n",
              " 'impress',\n",
              " 'doubt',\n",
              " 'alleg',\n",
              " 'avoid',\n",
              " 'blunkett',\n",
              " 'pop',\n",
              " 'particularli',\n",
              " 'park',\n",
              " 'staff',\n",
              " 'bought',\n",
              " 'jump',\n",
              " 'aviat',\n",
              " 'crime',\n",
              " 'tough',\n",
              " 'april',\n",
              " 'refus',\n",
              " 'johnson',\n",
              " 'anyth',\n",
              " 'declin',\n",
              " 'wage',\n",
              " 'celebr',\n",
              " 'die',\n",
              " 'add',\n",
              " 'non',\n",
              " 'bad',\n",
              " 'requir',\n",
              " 'andi',\n",
              " 'brought',\n",
              " 'energi',\n",
              " 'review',\n",
              " 'either',\n",
              " 'deficit',\n",
              " 'gone',\n",
              " 'slow',\n",
              " 'whose',\n",
              " 'happi',\n",
              " 'captain',\n",
              " 'unveil',\n",
              " 'approach',\n",
              " 'struggl',\n",
              " 'becam',\n",
              " 'societi',\n",
              " 'australia',\n",
              " 'studio',\n",
              " 'angel',\n",
              " 'heart',\n",
              " 'shown',\n",
              " 'own',\n",
              " 'ground',\n",
              " 'corpor',\n",
              " 'thousand',\n",
              " 'shot',\n",
              " 'death',\n",
              " 'longer',\n",
              " 'mind',\n",
              " 'visit',\n",
              " 'friend',\n",
              " 'boy',\n",
              " 'penalti',\n",
              " 'natur',\n",
              " 'rest',\n",
              " 'everyon',\n",
              " 'enjoy',\n",
              " 'everyth',\n",
              " 'approv',\n",
              " 'wireless',\n",
              " 'separ',\n",
              " 'civil',\n",
              " 'display',\n",
              " 'enter',\n",
              " 'write',\n",
              " 'spot',\n",
              " 'refere',\n",
              " 'text',\n",
              " 'exist',\n",
              " 'pair',\n",
              " 'coupl',\n",
              " 'expert',\n",
              " 'respect',\n",
              " 'previous',\n",
              " 'row',\n",
              " 'gold',\n",
              " 'economist',\n",
              " 'disappoint',\n",
              " 'opposit',\n",
              " 'met',\n",
              " 'hollywood',\n",
              " 'specul',\n",
              " 'threat',\n",
              " 'via',\n",
              " 'fox',\n",
              " 'promot',\n",
              " 'field',\n",
              " 'kelli',\n",
              " 'explain',\n",
              " 'theatr',\n",
              " 'billion',\n",
              " 'combin',\n",
              " 'slam',\n",
              " 'affair',\n",
              " 'encourag',\n",
              " 'draw',\n",
              " 'nearli',\n",
              " 'eye',\n",
              " 'nine',\n",
              " 'retir',\n",
              " 'shop',\n",
              " 'cover',\n",
              " 'collect',\n",
              " 'focu',\n",
              " 'recognis',\n",
              " 'hunt',\n",
              " 'soon',\n",
              " 'mike',\n",
              " 'stake',\n",
              " 'talent',\n",
              " 'express',\n",
              " 'drama',\n",
              " 'red',\n",
              " 'nintendo',\n",
              " 'remov',\n",
              " 'lawyer',\n",
              " 'interview',\n",
              " 'xbox',\n",
              " 'zealand',\n",
              " 'urg',\n",
              " 'tradit',\n",
              " 'tool',\n",
              " 'fair',\n",
              " 'disast',\n",
              " 'fast',\n",
              " 'criticis',\n",
              " 'worth',\n",
              " 'ray',\n",
              " 'arrest',\n",
              " 'select',\n",
              " 'gamer',\n",
              " 'answer',\n",
              " 'unlik',\n",
              " 'sort',\n",
              " 'peter',\n",
              " 'hear',\n",
              " 'actual',\n",
              " ...]"
            ]
          },
          "metadata": {},
          "execution_count": 78
        }
      ]
    },
    {
      "cell_type": "code",
      "source": [
        "model.corpus_count"
      ],
      "metadata": {
        "colab": {
          "base_uri": "https://localhost:8080/"
        },
        "id": "Nyei8qp8XUf6",
        "outputId": "27d6e2f0-50bf-4897-980c-378fdd5a8b8a"
      },
      "execution_count": 79,
      "outputs": [
        {
          "output_type": "execute_result",
          "data": {
            "text/plain": [
              "1557"
            ]
          },
          "metadata": {},
          "execution_count": 79
        }
      ]
    },
    {
      "cell_type": "code",
      "source": [
        "model.wv.similar_by_word('criticis')"
      ],
      "metadata": {
        "colab": {
          "base_uri": "https://localhost:8080/"
        },
        "id": "B9EdJ7GVYT-i",
        "outputId": "6cbbbe7e-32c1-47ae-b371-3e8f9c5f2460"
      },
      "execution_count": 80,
      "outputs": [
        {
          "output_type": "execute_result",
          "data": {
            "text/plain": [
              "[('dismiss', 0.9981951713562012),\n",
              " ('oliv', 0.9979391098022461),\n",
              " ('refus', 0.9975625872612),\n",
              " ('lawyer', 0.9973889589309692),\n",
              " ('down', 0.9968777298927307),\n",
              " ('welcom', 0.996767520904541),\n",
              " ('jewish', 0.9967378973960876),\n",
              " ('mayor', 0.9965867400169373),\n",
              " ('inquiri', 0.9965667724609375),\n",
              " ('stanc', 0.9965561628341675)]"
            ]
          },
          "metadata": {},
          "execution_count": 80
        }
      ]
    },
    {
      "cell_type": "code",
      "source": [
        "# Define the tokenizer\n",
        "from keras.preprocessing.text import Tokenizer\n",
        "maxlen = 3000\n",
        "tokenizer = Tokenizer(num_words=50000, filters='!\"#$%&()*+,-./:;<=>?@[\\]^_`{|}~',lower=True)\n",
        "tokenizer.fit_on_texts(x_train)"
      ],
      "metadata": {
        "id": "-Wv4tFq7YjB9"
      },
      "execution_count": 81,
      "outputs": []
    },
    {
      "cell_type": "code",
      "source": [
        "word_index = tokenizer.word_index"
      ],
      "metadata": {
        "id": "ITYbGnqjZh8G"
      },
      "execution_count": 82,
      "outputs": []
    },
    {
      "cell_type": "code",
      "source": [
        "x_train_sequences = tokenizer.texts_to_sequences(x_train)\n",
        "x_test_sequences = tokenizer.texts_to_sequences(x_test)"
      ],
      "metadata": {
        "id": "TVepwFNmZliU"
      },
      "execution_count": 83,
      "outputs": []
    },
    {
      "cell_type": "code",
      "source": [
        "x_train_sequences[0]"
      ],
      "metadata": {
        "colab": {
          "base_uri": "https://localhost:8080/"
        },
        "id": "O-RQjaL8b_eB",
        "outputId": "a1714a76-da78-40f5-fc79-1e0a4a820208"
      },
      "execution_count": 84,
      "outputs": [
        {
          "output_type": "execute_result",
          "data": {
            "text/plain": [
              "[360,\n",
              " 347,\n",
              " 30,\n",
              " 12,\n",
              " 3042,\n",
              " 487,\n",
              " 104,\n",
              " 524,\n",
              " 347,\n",
              " 30,\n",
              " 2052,\n",
              " 360,\n",
              " 314,\n",
              " 74,\n",
              " 233,\n",
              " 3173,\n",
              " 696,\n",
              " 180,\n",
              " 360,\n",
              " 347,\n",
              " 203,\n",
              " 100,\n",
              " 272,\n",
              " 58,\n",
              " 398,\n",
              " 723,\n",
              " 879,\n",
              " 63,\n",
              " 2177,\n",
              " 262,\n",
              " 89,\n",
              " 625,\n",
              " 262,\n",
              " 89,\n",
              " 591,\n",
              " 3,\n",
              " 104,\n",
              " 1,\n",
              " 367,\n",
              " 12,\n",
              " 22,\n",
              " 375,\n",
              " 42,\n",
              " 20,\n",
              " 398,\n",
              " 8865,\n",
              " 559,\n",
              " 360,\n",
              " 1817,\n",
              " 2013,\n",
              " 864,\n",
              " 5330,\n",
              " 447,\n",
              " 95,\n",
              " 511,\n",
              " 984,\n",
              " 2302,\n",
              " 347,\n",
              " 879,\n",
              " 11430,\n",
              " 11431,\n",
              " 11432,\n",
              " 1029,\n",
              " 233,\n",
              " 696,\n",
              " 3,\n",
              " 104,\n",
              " 660,\n",
              " 8866,\n",
              " 869,\n",
              " 936,\n",
              " 4921,\n",
              " 11433,\n",
              " 819,\n",
              " 1931,\n",
              " 11434,\n",
              " 347,\n",
              " 2420,\n",
              " 11435,\n",
              " 389,\n",
              " 160,\n",
              " 1,\n",
              " 255,\n",
              " 496,\n",
              " 30,\n",
              " 360,\n",
              " 347,\n",
              " 255,\n",
              " 478,\n",
              " 236,\n",
              " 426,\n",
              " 609,\n",
              " 2,\n",
              " 452,\n",
              " 90,\n",
              " 262,\n",
              " 434,\n",
              " 625,\n",
              " 304,\n",
              " 703,\n",
              " 1030,\n",
              " 46,\n",
              " 70,\n",
              " 128,\n",
              " 530,\n",
              " 58,\n",
              " 399,\n",
              " 53,\n",
              " 8867,\n",
              " 4592,\n",
              " 1848,\n",
              " 281,\n",
              " 618,\n",
              " 8865,\n",
              " 1667,\n",
              " 1269,\n",
              " 2239,\n",
              " 360,\n",
              " 126,\n",
              " 2303,\n",
              " 879,\n",
              " 4022,\n",
              " 360,\n",
              " 353,\n",
              " 48,\n",
              " 22,\n",
              " 554,\n",
              " 1115,\n",
              " 298,\n",
              " 2013,\n",
              " 26,\n",
              " 530,\n",
              " 20,\n",
              " 398,\n",
              " 106,\n",
              " 846,\n",
              " 1377,\n",
              " 625,\n",
              " 63,\n",
              " 3043,\n",
              " 129,\n",
              " 2751,\n",
              " 22,\n",
              " 133,\n",
              " 4,\n",
              " 147,\n",
              " 2304,\n",
              " 2119,\n",
              " 584,\n",
              " 2177,\n",
              " 204,\n",
              " 696,\n",
              " 45,\n",
              " 8,\n",
              " 3173,\n",
              " 281,\n",
              " 3173,\n",
              " 95,\n",
              " 5,\n",
              " 111,\n",
              " 40,\n",
              " 2239,\n",
              " 347,\n",
              " 2420,\n",
              " 4922,\n",
              " 2053,\n",
              " 367,\n",
              " 238,\n",
              " 147,\n",
              " 4593,\n",
              " 273,\n",
              " 1,\n",
              " 101,\n",
              " 172,\n",
              " 348,\n",
              " 20,\n",
              " 398,\n",
              " 347,\n",
              " 63,\n",
              " 129,\n",
              " 22,\n",
              " 524,\n",
              " 387,\n",
              " 675,\n",
              " 1818,\n",
              " 1077,\n",
              " 247,\n",
              " 347,\n",
              " 1774,\n",
              " 3620,\n",
              " 1,\n",
              " 1136,\n",
              " 2752,\n",
              " 47,\n",
              " 858,\n",
              " 59,\n",
              " 94,\n",
              " 4594,\n",
              " 117,\n",
              " 1440,\n",
              " 203,\n",
              " 266,\n",
              " 2120,\n",
              " 347,\n",
              " 959,\n",
              " 724,\n",
              " 360,\n",
              " 347,\n",
              " 102,\n",
              " 1,\n",
              " 3621,\n",
              " 116,\n",
              " 1016,\n",
              " 347,\n",
              " 12,\n",
              " 382,\n",
              " 353,\n",
              " 347,\n",
              " 2240,\n",
              " 2054,\n",
              " 167,\n",
              " 2,\n",
              " 835,\n",
              " 5331,\n",
              " 3818,\n",
              " 274,\n",
              " 505,\n",
              " 1,\n",
              " 275,\n",
              " 19,\n",
              " 1528,\n",
              " 7422,\n",
              " 281,\n",
              " 360,\n",
              " 442,\n",
              " 184,\n",
              " 204]"
            ]
          },
          "metadata": {},
          "execution_count": 84
        }
      ]
    },
    {
      "cell_type": "code",
      "source": [
        "len(x_train_sequences[0]),len(x_train_sequences[1])"
      ],
      "metadata": {
        "colab": {
          "base_uri": "https://localhost:8080/"
        },
        "id": "S6GA2QNPcC_7",
        "outputId": "88c1687a-ed5a-4f61-d899-322b811d03ec"
      },
      "execution_count": 85,
      "outputs": [
        {
          "output_type": "execute_result",
          "data": {
            "text/plain": [
              "(237, 260)"
            ]
          },
          "metadata": {},
          "execution_count": 85
        }
      ]
    },
    {
      "cell_type": "code",
      "source": [
        "# Since the number representation of the text are not the same, we need to pad them in order to make them same\n",
        "from tensorflow.keras.preprocessing.sequence import pad_sequences\n",
        "x_train = pad_sequences(x_train_sequences, maxlen=3000,padding='pre')\n",
        "x_test = pad_sequences(x_test_sequences,maxlen=3000,padding='pre')"
      ],
      "metadata": {
        "id": "gSnVOQXAcFWB"
      },
      "execution_count": 86,
      "outputs": []
    },
    {
      "cell_type": "markdown",
      "source": [
        "#3. Model"
      ],
      "metadata": {
        "id": "iEGmoWkadSb1"
      }
    },
    {
      "cell_type": "code",
      "source": [
        "from keras.models import Sequential\n",
        "from keras.layers import Dense, Embedding, LSTM, SpatialDropout1D\n",
        "from keras.callbacks import EarlyStopping"
      ],
      "metadata": {
        "id": "5DbH2LOLdBmZ"
      },
      "execution_count": 92,
      "outputs": []
    },
    {
      "cell_type": "code",
      "source": [
        "model=Sequential()\n",
        "model.add(Embedding(50000,100,input_length=3000))  # Input as the number of words (vocabulary size)\n",
        "model.add(LSTM(100, dropout=0.2, recurrent_dropout=0.2))  #Softmax for multiclass\n",
        "model.add(Dense(5, activation='softmax'))\n",
        "model.compile(loss='categorical_crossentropy', optimizer='adam', metrics=['accuracy'])"
      ],
      "metadata": {
        "colab": {
          "base_uri": "https://localhost:8080/"
        },
        "id": "jcBL5WR2dbFR",
        "outputId": "979c4cff-ac44-4017-c7f5-117fde7c98ea"
      },
      "execution_count": 89,
      "outputs": [
        {
          "output_type": "stream",
          "name": "stderr",
          "text": [
            "WARNING:tensorflow:Layer lstm_1 will not use cuDNN kernels since it doesn't meet the criteria. It will use a generic GPU kernel as fallback when running on GPU.\n"
          ]
        }
      ]
    },
    {
      "cell_type": "code",
      "source": [
        "print(model.summary())"
      ],
      "metadata": {
        "colab": {
          "base_uri": "https://localhost:8080/"
        },
        "id": "1duNaSS0dxgI",
        "outputId": "d0f68051-52e3-4476-edcc-df3fe8a81b6c"
      },
      "execution_count": 91,
      "outputs": [
        {
          "output_type": "stream",
          "name": "stdout",
          "text": [
            "Model: \"sequential_1\"\n",
            "_________________________________________________________________\n",
            " Layer (type)                Output Shape              Param #   \n",
            "=================================================================\n",
            " embedding_1 (Embedding)     (None, 3000, 100)         5000000   \n",
            "                                                                 \n",
            " lstm_1 (LSTM)               (None, 100)               80400     \n",
            "                                                                 \n",
            " dense_1 (Dense)             (None, 5)                 505       \n",
            "                                                                 \n",
            "=================================================================\n",
            "Total params: 5,080,905\n",
            "Trainable params: 5,080,905\n",
            "Non-trainable params: 0\n",
            "_________________________________________________________________\n",
            "None\n"
          ]
        }
      ]
    },
    {
      "cell_type": "code",
      "source": [
        "history = model.fit(x_train,y_train, epochs=7, batch_size=64,validation_split=0.1,callbacks=[EarlyStopping(monitor='val_loss', patience=3, min_delta=0.0001)])"
      ],
      "metadata": {
        "colab": {
          "base_uri": "https://localhost:8080/"
        },
        "id": "My3nM0XaeJbn",
        "outputId": "df88830e-1a7e-4e37-a8e2-c3a9dd5e83a3"
      },
      "execution_count": 93,
      "outputs": [
        {
          "output_type": "stream",
          "name": "stdout",
          "text": [
            "Epoch 1/7\n",
            "22/22 [==============================] - 317s 14s/step - loss: 1.5802 - accuracy: 0.3084 - val_loss: 1.5823 - val_accuracy: 0.2179\n",
            "Epoch 2/7\n",
            "22/22 [==============================] - 302s 14s/step - loss: 1.2209 - accuracy: 0.5161 - val_loss: 1.0286 - val_accuracy: 0.5128\n",
            "Epoch 3/7\n",
            "22/22 [==============================] - 310s 14s/step - loss: 0.9215 - accuracy: 0.5225 - val_loss: 0.7855 - val_accuracy: 0.7051\n",
            "Epoch 4/7\n",
            "22/22 [==============================] - 308s 14s/step - loss: 0.7052 - accuracy: 0.7545 - val_loss: 0.7293 - val_accuracy: 0.8269\n",
            "Epoch 5/7\n",
            "22/22 [==============================] - 305s 14s/step - loss: 0.6665 - accuracy: 0.8037 - val_loss: 0.9447 - val_accuracy: 0.6410\n",
            "Epoch 6/7\n",
            "22/22 [==============================] - 303s 14s/step - loss: 0.3989 - accuracy: 0.8608 - val_loss: 0.4290 - val_accuracy: 0.8462\n",
            "Epoch 7/7\n",
            "22/22 [==============================] - 378s 17s/step - loss: 0.1972 - accuracy: 0.9657 - val_loss: 0.4850 - val_accuracy: 0.8397\n"
          ]
        }
      ]
    },
    {
      "cell_type": "code",
      "source": [
        "accuracy = model.evaluate(x_test,y_test)\n",
        "print(accuracy[0],accuracy[1])"
      ],
      "metadata": {
        "colab": {
          "base_uri": "https://localhost:8080/"
        },
        "id": "SKHWdn2MeW64",
        "outputId": "79a58a6a-fdc8-4e9f-d305-0b5350a4a024"
      },
      "execution_count": 94,
      "outputs": [
        {
          "output_type": "stream",
          "name": "stdout",
          "text": [
            "21/21 [==============================] - 19s 885ms/step - loss: 0.3879 - accuracy: 0.8698\n",
            "0.3879154622554779 0.8697604537010193\n"
          ]
        }
      ]
    },
    {
      "cell_type": "code",
      "source": [
        "import matplotlib.pyplot as plt"
      ],
      "metadata": {
        "id": "s8hShNeGmO2k"
      },
      "execution_count": 96,
      "outputs": []
    },
    {
      "cell_type": "code",
      "source": [
        "plt.title('Loss')\n",
        "plt.plot(history.history['loss'], label='train')\n",
        "plt.plot(history.history['val_loss'], label='test')\n",
        "plt.legend()\n",
        "plt.show();"
      ],
      "metadata": {
        "colab": {
          "base_uri": "https://localhost:8080/",
          "height": 452
        },
        "id": "_0q9tj51mKww",
        "outputId": "83f5fb23-1674-4cf0-c7f4-e3ad027d3537"
      },
      "execution_count": 97,
      "outputs": [
        {
          "output_type": "display_data",
          "data": {
            "text/plain": [
              "<Figure size 640x480 with 1 Axes>"
            ],
            "image/png": "[encoded data removed]"
          },
          "metadata": {}
        }
      ]
    },
    {
      "cell_type": "code",
      "source": [
        "plt.title('Accuracy')\n",
        "plt.plot(history.history['accuracy'], label='train')\n",
        "plt.plot(history.history['val_accuracy'], label='test')\n",
        "plt.legend()\n",
        "plt.show();"
      ],
      "metadata": {
        "colab": {
          "base_uri": "https://localhost:8080/",
          "height": 452
        },
        "id": "sFw-SsHEmMp9",
        "outputId": "86c243f4-bfd4-4efe-be06-86245090a23d"
      },
      "execution_count": 98,
      "outputs": [
        {
          "output_type": "display_data",
          "data": {
            "text/plain": [
              "<Figure size 640x480 with 1 Axes>"
            ],
            "image/png": "[encoded data removed]"
          },
          "metadata": {}
        }
      ]
    }
  ]
}